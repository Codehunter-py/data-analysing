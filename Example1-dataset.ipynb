{
 "metadata": {
  "language_info": {
   "codemirror_mode": {
    "name": "ipython",
    "version": 3
   },
   "file_extension": ".py",
   "mimetype": "text/x-python",
   "name": "python",
   "nbconvert_exporter": "python",
   "pygments_lexer": "ipython3",
   "version": "3.8.8"
  },
  "orig_nbformat": 2,
  "kernelspec": {
   "name": "python388jvsc74a57bd044f81d3d9627231a95b475ab7182f83e981d309638dd62b2fa1d10adb9987791",
   "display_name": "Python 3.8.8 64-bit"
  },
  "metadata": {
   "interpreter": {
    "hash": "44f81d3d9627231a95b475ab7182f83e981d309638dd62b2fa1d10adb9987791"
   }
  }
 },
 "nbformat": 4,
 "nbformat_minor": 2,
 "cells": [
  {
   "cell_type": "code",
   "execution_count": 1,
   "metadata": {},
   "outputs": [
    {
     "output_type": "stream",
     "name": "stdout",
     "text": [
      "                         Population (2020) Yearly Change  Net Change  \\\nCountry (or dependency)                                                \nChina                           1440297825        0.39 %     5540090   \nIndia                           1382345085        0.99 %    13586631   \nUnited States                    331341050        0.59 %     1937734   \nIndonesia                        274021604        1.07 %     2898047   \nPakistan                         221612785        2.00 %     4327022   \n...                                    ...           ...         ...   \nMontserrat                            4993        0.06 %           3   \nFalkland Islands                      3497        3.05 %         103   \nNiue                                  1628        0.68 %          11   \nTokelau                               1360        1.27 %          17   \nHoly See                               801        0.25 %           2   \n\n                         Density (P/Km²)  Land Area (Km²)  Migrants (net)  \\\nCountry (or dependency)                                                     \nChina                                153          9388211       -348399.0   \nIndia                                464          2973190       -532687.0   \nUnited States                         36          9147420        954806.0   \nIndonesia                            151          1811570        -98955.0   \nPakistan                             287           770880       -233379.0   \n...                                  ...              ...             ...   \nMontserrat                            50              100             NaN   \nFalkland Islands                       0            12170             NaN   \nNiue                                   6              260             NaN   \nTokelau                              136               10             NaN   \nHoly See                            2003                0             NaN   \n\n                        Fert. Rate Med. Age Urban Pop % World Share  \nCountry (or dependency)                                              \nChina                          1.7       38        61 %     18.47 %  \nIndia                          2.2       28        35 %     17.70 %  \nUnited States                  1.8       38        83 %      4.25 %  \nIndonesia                      2.3       30        56 %      3.51 %  \nPakistan                       3.6       23        35 %      2.83 %  \n...                            ...      ...         ...         ...  \nMontserrat                    N.A.     N.A.        10 %      0.00 %  \nFalkland Islands              N.A.     N.A.        66 %      0.00 %  \nNiue                          N.A.     N.A.        46 %      0.00 %  \nTokelau                       N.A.     N.A.         0 %      0.00 %  \nHoly See                      N.A.     N.A.        N.A.      0.00 %  \n\n[235 rows x 10 columns]\n"
     ]
    }
   ],
   "source": [
    "import pandas as pd\n",
    "data = pd.read_csv('population_by_country_2020.csv', index_col = 0)\n",
    "print(data)"
   ]
  },
  {
   "cell_type": "code",
   "execution_count": 2,
   "metadata": {},
   "outputs": [
    {
     "output_type": "stream",
     "name": "stdout",
     "text": [
      "                         Population (2020) Yearly Change  Net Change  \\\nCountry (or dependency)                                                \nChina                           1440297825        0.39 %     5540090   \nIndia                           1382345085        0.99 %    13586631   \nUnited States                    331341050        0.59 %     1937734   \nIndonesia                        274021604        1.07 %     2898047   \nPakistan                         221612785        2.00 %     4327022   \n\n                         Density (P/Km²)  Land Area (Km²)  Migrants (net)  \\\nCountry (or dependency)                                                     \nChina                                153          9388211       -348399.0   \nIndia                                464          2973190       -532687.0   \nUnited States                         36          9147420        954806.0   \nIndonesia                            151          1811570        -98955.0   \nPakistan                             287           770880       -233379.0   \n\n                        Fert. Rate Med. Age Urban Pop % World Share  \nCountry (or dependency)                                              \nChina                          1.7       38        61 %     18.47 %  \nIndia                          2.2       28        35 %     17.70 %  \nUnited States                  1.8       38        83 %      4.25 %  \nIndonesia                      2.3       30        56 %      3.51 %  \nPakistan                       3.6       23        35 %      2.83 %  \n"
     ]
    }
   ],
   "source": [
    "# The first thing we will need to do is explore it and see what it contains. \n",
    "print(data.head())"
   ]
  },
  {
   "cell_type": "code",
   "execution_count": 3,
   "metadata": {},
   "outputs": [
    {
     "output_type": "stream",
     "name": "stdout",
     "text": [
      "<class 'pandas.core.frame.DataFrame'>\nIndex: 235 entries, China to Holy See\nData columns (total 10 columns):\n #   Column             Non-Null Count  Dtype  \n---  ------             --------------  -----  \n 0   Population (2020)  235 non-null    int64  \n 1   Yearly Change      235 non-null    object \n 2   Net Change         235 non-null    int64  \n 3   Density (P/Km²)    235 non-null    int64  \n 4   Land Area (Km²)    235 non-null    int64  \n 5   Migrants (net)     201 non-null    float64\n 6   Fert. Rate         235 non-null    object \n 7   Med. Age           235 non-null    object \n 8   Urban Pop %        235 non-null    object \n 9   World Share        235 non-null    object \ndtypes: float64(1), int64(4), object(5)\nmemory usage: 20.2+ KB\nNone\n"
     ]
    }
   ],
   "source": [
    "print(data.info())"
   ]
  },
  {
   "cell_type": "code",
   "execution_count": 4,
   "metadata": {},
   "outputs": [
    {
     "output_type": "stream",
     "name": "stdout",
     "text": [
      "(235, 10)\n"
     ]
    }
   ],
   "source": [
    "print(data.shape) #shows rows and columns"
   ]
  },
  {
   "cell_type": "code",
   "execution_count": 5,
   "metadata": {},
   "outputs": [
    {
     "output_type": "stream",
     "name": "stdout",
     "text": [
      "       Population (2020)    Net Change  Density (P/Km²)  Land Area (Km²)  \\\ncount       2.350000e+02  2.350000e+02       235.000000     2.350000e+02   \nmean        3.322744e+07  3.460878e+05       475.770213     5.535918e+05   \nstd         1.353034e+08  1.128260e+06      2331.285935     1.687796e+06   \nmin         8.010000e+02 -3.838400e+05         0.000000     0.000000e+00   \n25%         3.994905e+05  4.240000e+02        37.000000     2.545000e+03   \n50%         5.460109e+06  3.917000e+04        95.000000     7.724000e+04   \n75%         2.067170e+07  2.496600e+05       239.500000     4.038200e+05   \nmax         1.440298e+09  1.358663e+07     26337.000000     1.637687e+07   \n\n       Migrants (net)  \ncount      201.000000  \nmean         6.283582  \nstd     123291.887548  \nmin    -653249.000000  \n25%     -10047.000000  \n50%       -852.000000  \n75%       9741.000000  \nmax     954806.000000  \n"
     ]
    }
   ],
   "source": [
    "print(data.describe()) #calculates a few summary statistics for each column"
   ]
  },
  {
   "cell_type": "code",
   "execution_count": 6,
   "metadata": {},
   "outputs": [
    {
     "output_type": "stream",
     "name": "stdout",
     "text": [
      "[[1440297825 '0.39 %' 5540090 ... '38' '61 %' '18.47 %']\n [1382345085 '0.99 %' 13586631 ... '28' '35 %' '17.70 %']\n [331341050 '0.59 %' 1937734 ... '38' '83 %' '4.25 %']\n ...\n [1628 '0.68 %' 11 ... 'N.A.' '46 %' '0.00 %']\n [1360 '1.27 %' 17 ... 'N.A.' '0 %' '0.00 %']\n [801 '0.25 %' 2 ... 'N.A.' 'N.A.' '0.00 %']]\nIndex(['Population (2020)', 'Yearly Change', 'Net Change', 'Density (P/Km²)',\n       'Land Area (Km²)', 'Migrants (net)', 'Fert. Rate', 'Med. Age',\n       'Urban Pop %', 'World Share'],\n      dtype='object')\nIndex(['China', 'India', 'United States', 'Indonesia', 'Pakistan', 'Brazil',\n       'Nigeria', 'Bangladesh', 'Russia', 'Mexico',\n       ...\n       'Wallis & Futuna', 'Nauru', 'Saint Barthelemy', 'Saint Helena',\n       'Saint Pierre & Miquelon', 'Montserrat', 'Falkland Islands', 'Niue',\n       'Tokelau', 'Holy See'],\n      dtype='object', name='Country (or dependency)', length=235)\n"
     ]
    }
   ],
   "source": [
    "# To better understand DataFrame objects, it's useful to know that they consist of three components, stored as attributes:\n",
    "print(data.values)\n",
    "print(data.columns)\n",
    "print(data.index)\n"
   ]
  },
  {
   "cell_type": "code",
   "execution_count": 7,
   "metadata": {},
   "outputs": [
    {
     "output_type": "execute_result",
     "data": {
      "text/plain": [
       "                         Population (2020) Yearly Change  Net Change  \\\n",
       "Country (or dependency)                                                \n",
       "China                           1440297825        0.39 %     5540090   \n",
       "India                           1382345085        0.99 %    13586631   \n",
       "United States                    331341050        0.59 %     1937734   \n",
       "Indonesia                        274021604        1.07 %     2898047   \n",
       "Pakistan                         221612785        2.00 %     4327022   \n",
       "...                                    ...           ...         ...   \n",
       "Montserrat                            4993        0.06 %           3   \n",
       "Falkland Islands                      3497        3.05 %         103   \n",
       "Niue                                  1628        0.68 %          11   \n",
       "Tokelau                               1360        1.27 %          17   \n",
       "Holy See                               801        0.25 %           2   \n",
       "\n",
       "                         Density (P/Km²)  Land Area (Km²)  Migrants (net)  \\\n",
       "Country (or dependency)                                                     \n",
       "China                                153          9388211       -348399.0   \n",
       "India                                464          2973190       -532687.0   \n",
       "United States                         36          9147420        954806.0   \n",
       "Indonesia                            151          1811570        -98955.0   \n",
       "Pakistan                             287           770880       -233379.0   \n",
       "...                                  ...              ...             ...   \n",
       "Montserrat                            50              100             NaN   \n",
       "Falkland Islands                       0            12170             NaN   \n",
       "Niue                                   6              260             NaN   \n",
       "Tokelau                              136               10             NaN   \n",
       "Holy See                            2003                0             NaN   \n",
       "\n",
       "                        Fert. Rate Med. Age Urban Pop % World Share  \n",
       "Country (or dependency)                                              \n",
       "China                          1.7       38        61 %     18.47 %  \n",
       "India                          2.2       28        35 %     17.70 %  \n",
       "United States                  1.8       38        83 %      4.25 %  \n",
       "Indonesia                      2.3       30        56 %      3.51 %  \n",
       "Pakistan                       3.6       23        35 %      2.83 %  \n",
       "...                            ...      ...         ...         ...  \n",
       "Montserrat                    N.A.     N.A.        10 %      0.00 %  \n",
       "Falkland Islands              N.A.     N.A.        66 %      0.00 %  \n",
       "Niue                          N.A.     N.A.        46 %      0.00 %  \n",
       "Tokelau                       N.A.     N.A.         0 %      0.00 %  \n",
       "Holy See                      N.A.     N.A.        N.A.      0.00 %  \n",
       "\n",
       "[235 rows x 10 columns]"
      ],
      "text/html": "<div>\n<style scoped>\n    .dataframe tbody tr th:only-of-type {\n        vertical-align: middle;\n    }\n\n    .dataframe tbody tr th {\n        vertical-align: top;\n    }\n\n    .dataframe thead th {\n        text-align: right;\n    }\n</style>\n<table border=\"1\" class=\"dataframe\">\n  <thead>\n    <tr style=\"text-align: right;\">\n      <th></th>\n      <th>Population (2020)</th>\n      <th>Yearly Change</th>\n      <th>Net Change</th>\n      <th>Density (P/Km²)</th>\n      <th>Land Area (Km²)</th>\n      <th>Migrants (net)</th>\n      <th>Fert. Rate</th>\n      <th>Med. Age</th>\n      <th>Urban Pop %</th>\n      <th>World Share</th>\n    </tr>\n    <tr>\n      <th>Country (or dependency)</th>\n      <th></th>\n      <th></th>\n      <th></th>\n      <th></th>\n      <th></th>\n      <th></th>\n      <th></th>\n      <th></th>\n      <th></th>\n      <th></th>\n    </tr>\n  </thead>\n  <tbody>\n    <tr>\n      <th>China</th>\n      <td>1440297825</td>\n      <td>0.39 %</td>\n      <td>5540090</td>\n      <td>153</td>\n      <td>9388211</td>\n      <td>-348399.0</td>\n      <td>1.7</td>\n      <td>38</td>\n      <td>61 %</td>\n      <td>18.47 %</td>\n    </tr>\n    <tr>\n      <th>India</th>\n      <td>1382345085</td>\n      <td>0.99 %</td>\n      <td>13586631</td>\n      <td>464</td>\n      <td>2973190</td>\n      <td>-532687.0</td>\n      <td>2.2</td>\n      <td>28</td>\n      <td>35 %</td>\n      <td>17.70 %</td>\n    </tr>\n    <tr>\n      <th>United States</th>\n      <td>331341050</td>\n      <td>0.59 %</td>\n      <td>1937734</td>\n      <td>36</td>\n      <td>9147420</td>\n      <td>954806.0</td>\n      <td>1.8</td>\n      <td>38</td>\n      <td>83 %</td>\n      <td>4.25 %</td>\n    </tr>\n    <tr>\n      <th>Indonesia</th>\n      <td>274021604</td>\n      <td>1.07 %</td>\n      <td>2898047</td>\n      <td>151</td>\n      <td>1811570</td>\n      <td>-98955.0</td>\n      <td>2.3</td>\n      <td>30</td>\n      <td>56 %</td>\n      <td>3.51 %</td>\n    </tr>\n    <tr>\n      <th>Pakistan</th>\n      <td>221612785</td>\n      <td>2.00 %</td>\n      <td>4327022</td>\n      <td>287</td>\n      <td>770880</td>\n      <td>-233379.0</td>\n      <td>3.6</td>\n      <td>23</td>\n      <td>35 %</td>\n      <td>2.83 %</td>\n    </tr>\n    <tr>\n      <th>...</th>\n      <td>...</td>\n      <td>...</td>\n      <td>...</td>\n      <td>...</td>\n      <td>...</td>\n      <td>...</td>\n      <td>...</td>\n      <td>...</td>\n      <td>...</td>\n      <td>...</td>\n    </tr>\n    <tr>\n      <th>Montserrat</th>\n      <td>4993</td>\n      <td>0.06 %</td>\n      <td>3</td>\n      <td>50</td>\n      <td>100</td>\n      <td>NaN</td>\n      <td>N.A.</td>\n      <td>N.A.</td>\n      <td>10 %</td>\n      <td>0.00 %</td>\n    </tr>\n    <tr>\n      <th>Falkland Islands</th>\n      <td>3497</td>\n      <td>3.05 %</td>\n      <td>103</td>\n      <td>0</td>\n      <td>12170</td>\n      <td>NaN</td>\n      <td>N.A.</td>\n      <td>N.A.</td>\n      <td>66 %</td>\n      <td>0.00 %</td>\n    </tr>\n    <tr>\n      <th>Niue</th>\n      <td>1628</td>\n      <td>0.68 %</td>\n      <td>11</td>\n      <td>6</td>\n      <td>260</td>\n      <td>NaN</td>\n      <td>N.A.</td>\n      <td>N.A.</td>\n      <td>46 %</td>\n      <td>0.00 %</td>\n    </tr>\n    <tr>\n      <th>Tokelau</th>\n      <td>1360</td>\n      <td>1.27 %</td>\n      <td>17</td>\n      <td>136</td>\n      <td>10</td>\n      <td>NaN</td>\n      <td>N.A.</td>\n      <td>N.A.</td>\n      <td>0 %</td>\n      <td>0.00 %</td>\n    </tr>\n    <tr>\n      <th>Holy See</th>\n      <td>801</td>\n      <td>0.25 %</td>\n      <td>2</td>\n      <td>2003</td>\n      <td>0</td>\n      <td>NaN</td>\n      <td>N.A.</td>\n      <td>N.A.</td>\n      <td>N.A.</td>\n      <td>0.00 %</td>\n    </tr>\n  </tbody>\n</table>\n<p>235 rows × 10 columns</p>\n</div>"
     },
     "metadata": {},
     "execution_count": 7
    }
   ],
   "source": [
    "data.sort_values(\"Population (2020)\", ascending=False)"
   ]
  },
  {
   "cell_type": "code",
   "execution_count": 8,
   "metadata": {},
   "outputs": [
    {
     "output_type": "execute_result",
     "data": {
      "text/plain": [
       "Country (or dependency)\n",
       "China                True\n",
       "India                True\n",
       "United States       False\n",
       "Indonesia           False\n",
       "Pakistan            False\n",
       "                    ...  \n",
       "Montserrat          False\n",
       "Falkland Islands    False\n",
       "Niue                False\n",
       "Tokelau             False\n",
       "Holy See            False\n",
       "Name: Population (2020), Length: 235, dtype: bool"
      ]
     },
     "metadata": {},
     "execution_count": 8
    }
   ],
   "source": [
    "#Let's create logical condition to filter against. That will show which country have more than 1 billion population\n",
    "data[\"Population (2020)\"] > 1000000000"
   ]
  },
  {
   "cell_type": "code",
   "execution_count": 9,
   "metadata": {},
   "outputs": [
    {
     "output_type": "stream",
     "name": "stdout",
     "text": [
      "    Country (or dependency)  Population (2020) Yearly Change  Net Change  \\\n234                Holy See                801        0.25 %           2   \n233                 Tokelau               1360        1.27 %          17   \n232                    Niue               1628        0.68 %          11   \n231        Falkland Islands               3497        3.05 %         103   \n230              Montserrat               4993        0.06 %           3   \n\n     Density (P/Km²)  Land Area (Km²)  Migrants (net) Fert. Rate Med. Age  \\\n234             2003                0             NaN       N.A.     N.A.   \n233              136               10             NaN       N.A.     N.A.   \n232                6              260             NaN       N.A.     N.A.   \n231                0            12170             NaN       N.A.     N.A.   \n230               50              100             NaN       N.A.     N.A.   \n\n    Urban Pop % World Share  \n234        N.A.      0.00 %  \n233         0 %      0.00 %  \n232        46 %      0.00 %  \n231        66 %      0.00 %  \n230        10 %      0.00 %  \n"
     ]
    }
   ],
   "source": [
    "import pandas as pd\n",
    "data = pd.read_csv('population_by_country_2020.csv')\n",
    "data_pop_share = data.sort_values([\"Population (2020)\", \"World Share\"], ascending = [True, False])\n",
    "print(data_pop_share.head())"
   ]
  },
  {
   "cell_type": "code",
   "execution_count": 10,
   "metadata": {},
   "outputs": [
    {
     "output_type": "stream",
     "name": "stdout",
     "text": [
      "  Country (or dependency)  Population (2020)\n0                   China         1440297825\n1                   India         1382345085\n2           United States          331341050\n3               Indonesia          274021604\n4                Pakistan          221612785\n"
     ]
    }
   ],
   "source": [
    "countries_by_pop = data[[\"Country (or dependency)\", \"Population (2020)\"]]\n",
    "print(countries_by_pop.head())"
   ]
  },
  {
   "cell_type": "code",
   "execution_count": 11,
   "metadata": {},
   "outputs": [
    {
     "output_type": "stream",
     "name": "stdout",
     "text": [
      "  Country (or dependency)  Population (2020) Yearly Change  Net Change  \\\n0                   China         1440297825        0.39 %     5540090   \n1                   India         1382345085        0.99 %    13586631   \n2           United States          331341050        0.59 %     1937734   \n3               Indonesia          274021604        1.07 %     2898047   \n4                Pakistan          221612785        2.00 %     4327022   \n\n   Density (P/Km²)  Land Area (Km²)  Migrants (net) Fert. Rate Med. Age  \\\n0              153          9388211       -348399.0        1.7       38   \n1              464          2973190       -532687.0        2.2       28   \n2               36          9147420        954806.0        1.8       38   \n3              151          1811570        -98955.0        2.3       30   \n4              287           770880       -233379.0        3.6       23   \n\n  Urban Pop % World Share  \n0        61 %     18.47 %  \n1        35 %     17.70 %  \n2        83 %      4.25 %  \n3        56 %      3.51 %  \n4        35 %      2.83 %  \n"
     ]
    }
   ],
   "source": [
    "# Filtering for rows where Population is greater than 35 million\n",
    "pop_35m = data[data[\"Population (2020)\"] > 35000000]\n",
    "print(pop_35m.head())"
   ]
  },
  {
   "cell_type": "code",
   "execution_count": 12,
   "metadata": {},
   "outputs": [
    {
     "output_type": "stream",
     "name": "stdout",
     "text": [
      "  Country (or dependency)  population_with_million\n0                   China               144.029783\n1                   India               138.234509\n2           United States                33.134105\n3               Indonesia                27.402160\n4                Pakistan                22.161279\n"
     ]
    }
   ],
   "source": [
    "# It would be easier to see big number by removing zeros\n",
    "data[\"population_with_million\"] = data[\"Population (2020)\"] / 10000000\n",
    "print(data[[\"Country (or dependency)\", \"population_with_million\"]].head())"
   ]
  },
  {
   "cell_type": "code",
   "execution_count": 13,
   "metadata": {},
   "outputs": [
    {
     "output_type": "stream",
     "name": "stdout",
     "text": [
      "  Country (or dependency)  pop_per_10k\n0                   China    65.182429\n1                   India    21.508305\n"
     ]
    }
   ],
   "source": [
    "# For Example: Which country has the highest number of population per 10000 Land/km2?\n",
    "data[\"pop_per_10k\"] = 10000 * data[\"Land Area (Km²)\"] / data[\"Population (2020)\"] \n",
    "population_with_million = data[data[\"population_with_million\"] > 50] #already defined above\n",
    "high_population_srt = population_with_million.sort_values(\"population_with_million\", ascending=False)\n",
    "result = high_population_srt[[\"Country (or dependency)\", \"pop_per_10k\"]]\n",
    "print(result) #China and India have the higest number of population per 10,000 Land/km2"
   ]
  },
  {
   "cell_type": "code",
   "execution_count": null,
   "metadata": {},
   "outputs": [],
   "source": []
  }
 ]
}
